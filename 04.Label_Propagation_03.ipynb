{
 "cells": [
  {
   "cell_type": "code",
   "execution_count": 1,
   "id": "d6b65156",
   "metadata": {},
   "outputs": [],
   "source": [
    "from sklearn.datasets import make_classification\n",
    "from sklearn.model_selection import train_test_split\n",
    "from sklearn.linear_model import LogisticRegression\n",
    "from sklearn.metrics import accuracy_score"
   ]
  },
  {
   "cell_type": "code",
   "execution_count": 2,
   "id": "cd380579",
   "metadata": {},
   "outputs": [],
   "source": [
    "# define dataset\n",
    "X, y = make_classification(n_samples=1000, n_features=2, n_informative=2, n_redundant=0, random_state=1)"
   ]
  },
  {
   "cell_type": "code",
   "execution_count": 3,
   "id": "0638c73d",
   "metadata": {},
   "outputs": [],
   "source": [
    "# split into train and test\n",
    "X_train, X_test, y_train, y_test = train_test_split(X, y, test_size=0.50, random_state=1, stratify=y)"
   ]
  },
  {
   "cell_type": "code",
   "execution_count": 4,
   "id": "0c43d18a",
   "metadata": {},
   "outputs": [],
   "source": [
    "# split train into labeled and unlabeled\n",
    "X_train_lab, X_test_unlab, y_train_lab, y_test_unlab = train_test_split(X_train, y_train, test_size=0.50, random_state=1, stratify=y_train)"
   ]
  },
  {
   "cell_type": "code",
   "execution_count": 5,
   "id": "24306389",
   "metadata": {},
   "outputs": [
    {
     "name": "stdout",
     "output_type": "stream",
     "text": [
      "Labeled Train Set: (250, 2) (250,)\n",
      "Unlabeled Train Set: (250, 2) (250,)\n",
      "Test Set: (500, 2) (500,)\n"
     ]
    }
   ],
   "source": [
    "# prepare semi-supervised learning dataset\n",
    "from sklearn.datasets import make_classification\n",
    "from sklearn.model_selection import train_test_split\n",
    "# define dataset\n",
    "X, y = make_classification(n_samples=1000, n_features=2, n_informative=2, n_redundant=0, random_state=1)\n",
    "# split into train and test\n",
    "X_train, X_test, y_train, y_test = train_test_split(X, y, test_size=0.50, random_state=1, stratify=y)\n",
    "# split train into labeled and unlabeled\n",
    "X_train_lab, X_test_unlab, y_train_lab, y_test_unlab = train_test_split(X_train, y_train, test_size=0.50, random_state=1, stratify=y_train)\n",
    "# summarize training set size\n",
    "print('Labeled Train Set:', X_train_lab.shape, y_train_lab.shape)\n",
    "print('Unlabeled Train Set:', X_test_unlab.shape, y_test_unlab.shape)\n",
    "# summarize test set size\n",
    "print('Test Set:', X_test.shape, y_test.shape)"
   ]
  },
  {
   "cell_type": "code",
   "execution_count": 6,
   "id": "d27221dc",
   "metadata": {},
   "outputs": [
    {
     "data": {
      "text/plain": [
       "LogisticRegression()"
      ]
     },
     "execution_count": 6,
     "metadata": {},
     "output_type": "execute_result"
    }
   ],
   "source": [
    "# define model\n",
    "model = LogisticRegression()\n",
    "# fit model on labeled dataset\n",
    "model.fit(X_train_lab, y_train_lab)"
   ]
  },
  {
   "cell_type": "code",
   "execution_count": 7,
   "id": "ee3d88dc",
   "metadata": {},
   "outputs": [
    {
     "name": "stdout",
     "output_type": "stream",
     "text": [
      "Accuracy: 84.800\n"
     ]
    }
   ],
   "source": [
    "# make predictions on hold out test set\n",
    "yhat = model.predict(X_test)\n",
    "# calculate score for test set\n",
    "score = accuracy_score(y_test, yhat)\n",
    "# summarize score\n",
    "print('Accuracy: %.3f' % (score*100))"
   ]
  },
  {
   "cell_type": "code",
   "execution_count": 8,
   "id": "bad0ae03",
   "metadata": {},
   "outputs": [
    {
     "name": "stdout",
     "output_type": "stream",
     "text": [
      "Accuracy: 84.800\n"
     ]
    }
   ],
   "source": [
    "# baseline performance on the semi-supervised learning dataset\n",
    "from sklearn.datasets import make_classification\n",
    "from sklearn.model_selection import train_test_split\n",
    "from sklearn.metrics import accuracy_score\n",
    "from sklearn.linear_model import LogisticRegression\n",
    "# define dataset\n",
    "X, y = make_classification(n_samples=1000, n_features=2, n_informative=2, n_redundant=0, random_state=1)\n",
    "# split into train and test\n",
    "X_train, X_test, y_train, y_test = train_test_split(X, y, test_size=0.50, random_state=1, stratify=y)\n",
    "# split train into labeled and unlabeled\n",
    "X_train_lab, X_test_unlab, y_train_lab, y_test_unlab = train_test_split(X_train, y_train, test_size=0.50, random_state=1, stratify=y_train)\n",
    "# define model\n",
    "model = LogisticRegression()\n",
    "# fit model on labeled dataset\n",
    "model.fit(X_train_lab, y_train_lab)\n",
    "# make predictions on hold out test set\n",
    "yhat = model.predict(X_test)\n",
    "# calculate score for test set\n",
    "score = accuracy_score(y_test, yhat)\n",
    "# summarize score\n",
    "print('Accuracy: %.3f' % (score*100))"
   ]
  },
  {
   "cell_type": "code",
   "execution_count": 10,
   "id": "c16fbe2b",
   "metadata": {},
   "outputs": [],
   "source": [
    "# evaluate label propagation on the semi-supervised learning dataset\n",
    "from numpy import concatenate\n",
    "from sklearn.datasets import make_classification\n",
    "from sklearn.model_selection import train_test_split\n",
    "from sklearn.metrics import accuracy_score\n",
    "from sklearn.semi_supervised import LabelPropagation\n",
    "\n",
    "from sklearn.semi_supervised import LabelPropagation"
   ]
  },
  {
   "cell_type": "markdown",
   "id": "030c3b02",
   "metadata": {},
   "source": [
    "# Label Propagarion"
   ]
  },
  {
   "cell_type": "code",
   "execution_count": 11,
   "id": "59e274cf",
   "metadata": {},
   "outputs": [],
   "source": [
    "# create the training dataset input\n",
    "X_train_mixed = concatenate((X_train_lab, X_test_unlab))"
   ]
  },
  {
   "cell_type": "code",
   "execution_count": 12,
   "id": "c7472844",
   "metadata": {},
   "outputs": [],
   "source": [
    "# create \"no label\" for unlabeled data\n",
    "nolabel = [-1 for _ in range(len(y_test_unlab))]"
   ]
  },
  {
   "cell_type": "code",
   "execution_count": 13,
   "id": "e2b8cd6e",
   "metadata": {},
   "outputs": [],
   "source": [
    "# recombine training dataset labels\n",
    "y_train_mixed = concatenate((y_train_lab, nolabel))"
   ]
  },
  {
   "cell_type": "code",
   "execution_count": 14,
   "id": "ce88028f",
   "metadata": {},
   "outputs": [
    {
     "data": {
      "text/plain": [
       "LabelPropagation()"
      ]
     },
     "execution_count": 14,
     "metadata": {},
     "output_type": "execute_result"
    }
   ],
   "source": [
    "# define model\n",
    "model = LabelPropagation()\n",
    "# fit model on training dataset\n",
    "model.fit(X_train_mixed, y_train_mixed)"
   ]
  },
  {
   "cell_type": "code",
   "execution_count": 15,
   "id": "c377a636",
   "metadata": {},
   "outputs": [
    {
     "name": "stdout",
     "output_type": "stream",
     "text": [
      "Accuracy: 85.600\n"
     ]
    }
   ],
   "source": [
    "# make predictions on hold out test set\n",
    "yhat = model.predict(X_test)\n",
    "# calculate score for test set\n",
    "score = accuracy_score(y_test, yhat)\n",
    "# summarize score\n",
    "print('Accuracy: %.3f' % (score*100))"
   ]
  },
  {
   "cell_type": "code",
   "execution_count": 16,
   "id": "c8d8cf07",
   "metadata": {},
   "outputs": [],
   "source": [
    "# get labels for entire training dataset data\n",
    "tran_labels = model.transduction_"
   ]
  },
  {
   "cell_type": "code",
   "execution_count": 17,
   "id": "8fb7147c",
   "metadata": {},
   "outputs": [
    {
     "name": "stdout",
     "output_type": "stream",
     "text": [
      "Accuracy: 86.200\n"
     ]
    }
   ],
   "source": [
    "# define supervised learning model\n",
    "model2 = LogisticRegression()\n",
    "# fit supervised learning model on entire training dataset\n",
    "model2.fit(X_train_mixed, tran_labels)\n",
    "# make predictions on hold out test set\n",
    "yhat = model2.predict(X_test)\n",
    "# calculate score for test set\n",
    "score = accuracy_score(y_test, yhat)\n",
    "# summarize score\n",
    "print('Accuracy: %.3f' % (score*100))"
   ]
  },
  {
   "cell_type": "code",
   "execution_count": null,
   "id": "afd58635",
   "metadata": {},
   "outputs": [],
   "source": []
  }
 ],
 "metadata": {
  "kernelspec": {
   "display_name": "Python 3 (ipykernel)",
   "language": "python",
   "name": "python3"
  },
  "language_info": {
   "codemirror_mode": {
    "name": "ipython",
    "version": 3
   },
   "file_extension": ".py",
   "mimetype": "text/x-python",
   "name": "python",
   "nbconvert_exporter": "python",
   "pygments_lexer": "ipython3",
   "version": "3.9.12"
  }
 },
 "nbformat": 4,
 "nbformat_minor": 5
}
