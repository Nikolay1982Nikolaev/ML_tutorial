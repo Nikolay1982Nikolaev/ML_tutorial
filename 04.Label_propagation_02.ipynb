{
 "cells": [
  {
   "cell_type": "markdown",
   "id": "34981dfe",
   "metadata": {},
   "source": [
    "Here we are using the breast cancer dataset from sklearn. The dataset will contain all of the input data, and the target will contain both labeled and unlabeled data.\n",
    "\n",
    "The unlabeled points are marked as -1\n",
    "\n",
    "The label Propagation algorithm will classify the unlabeled data"
   ]
  },
  {
   "cell_type": "code",
   "execution_count": 3,
   "id": "a0f7b869",
   "metadata": {},
   "outputs": [],
   "source": [
    "from sklearn import datasets\n",
    "from sklearn.semi_supervised import LabelPropagation\n",
    "from sklearn.metrics import confusion_matrix, classification_report\n",
    "import numpy as np\n"
   ]
  },
  {
   "cell_type": "code",
   "execution_count": 6,
   "id": "b4690475",
   "metadata": {},
   "outputs": [],
   "source": [
    "rnd = np.random.RandomState(42)\n",
    "# load the cancer dataset\n",
    "cancer = datasets.load_breast_cancer()\n"
   ]
  },
  {
   "cell_type": "code",
   "execution_count": 8,
   "id": "025c3a6a",
   "metadata": {},
   "outputs": [],
   "source": [
    "# Randomly unlabel some records in the dataset\n",
    "#unlabeled points are marked as -1\n",
    "random_unlabeled_points = rnd.rand(len(cancer.target)) < 0.6"
   ]
  },
  {
   "cell_type": "code",
   "execution_count": 13,
   "id": "da61f2cd",
   "metadata": {
    "scrolled": true
   },
   "outputs": [
    {
     "data": {
      "text/plain": [
       "array([-1, -1,  0, -1,  0,  0,  0, -1,  0, -1, -1, -1,  0, -1, -1,  0, -1,\n",
       "       -1, -1, -1, -1, -1,  0, -1, -1,  0, -1,  0, -1, -1, -1, -1, -1, -1,\n",
       "       -1, -1, -1, -1, -1, -1,  0, -1,  0,  0, -1,  0,  1, -1, -1,  1,  1,\n",
       "       -1, -1, -1, -1,  1, -1, -1,  1, -1, -1,  1,  0, -1, -1, -1, -1, -1,\n",
       "       -1, -1, -1, -1, -1, -1, -1, -1,  1, -1,  0,  1, -1, -1, -1, -1,  1,\n",
       "       -1, -1, -1, -1,  1, -1, -1,  1,  1, -1, -1, -1, -1, -1, -1, -1, -1,\n",
       "        1, -1, -1, -1,  1, -1, -1,  1,  1,  1, -1, -1,  1,  1, -1, -1, -1,\n",
       "        0, -1, -1, -1, -1, -1, -1,  0, -1, -1, -1, -1, -1, -1, -1, -1, -1,\n",
       "        1, -1,  0, -1,  1,  0, -1, -1, -1, -1,  0,  1,  1, -1,  1,  1, -1,\n",
       "       -1,  1, -1,  0, -1,  1, -1, -1, -1,  0,  1, -1, -1,  1, -1,  0, -1,\n",
       "       -1, -1, -1,  1, -1, -1,  1, -1, -1,  1,  0, -1,  0,  1, -1, -1,  0,\n",
       "        1, -1,  1,  0, -1, -1, -1,  0, -1, -1,  0,  0, -1,  1, -1,  0, -1,\n",
       "       -1,  0, -1, -1,  1,  1,  0,  1, -1, -1, -1, -1,  1, -1, -1, -1,  1,\n",
       "       -1, -1, -1,  1, -1,  1,  1, -1,  0,  0,  1, -1, -1,  1, -1,  0,  0,\n",
       "        1, -1, -1,  1,  1, -1,  0,  1, -1, -1, -1, -1, -1,  1, -1, -1, -1,\n",
       "       -1,  0, -1, -1,  0, -1, -1, -1, -1, -1, -1, -1,  1, -1, -1,  1, -1,\n",
       "        0, -1,  0, -1, -1, -1,  1, -1, -1, -1,  0, -1,  1, -1, -1, -1, -1,\n",
       "       -1, -1,  1, -1, -1, -1, -1, -1, -1, -1,  1,  0, -1, -1,  1, -1, -1,\n",
       "       -1,  1,  1, -1, -1, -1,  1, -1, -1,  1, -1,  0, -1, -1, -1,  0,  1,\n",
       "        0, -1,  1, -1, -1,  0, -1, -1, -1, -1, -1, -1, -1,  1,  0, -1, -1,\n",
       "       -1, -1, -1,  0, -1, -1, -1, -1,  1,  1, -1,  0, -1,  0,  1, -1, -1,\n",
       "       -1, -1,  1, -1, -1,  1,  1, -1, -1, -1, -1,  0, -1, -1, -1, -1,  0,\n",
       "        1, -1, -1, -1,  1,  0, -1,  1,  1, -1,  1, -1, -1, -1, -1, -1,  1,\n",
       "       -1,  0, -1, -1, -1, -1,  1, -1, -1, -1,  1,  1,  1, -1, -1, -1, -1,\n",
       "       -1, -1, -1, -1,  1, -1, -1,  1, -1,  0, -1, -1,  1,  1,  1, -1, -1,\n",
       "       -1, -1,  1, -1,  1, -1, -1, -1,  0,  1,  0,  1,  1,  1, -1, -1, -1,\n",
       "        1,  1, -1,  1,  0, -1, -1,  0, -1,  0, -1,  1,  1,  1, -1,  1,  1,\n",
       "       -1,  0, -1, -1, -1, -1, -1,  1, -1,  0, -1, -1, -1,  1, -1,  1,  1,\n",
       "        1, -1, -1,  0, -1,  1, -1,  1,  1,  1, -1,  0, -1, -1,  1,  1,  0,\n",
       "        1, -1, -1,  1, -1, -1, -1, -1, -1, -1, -1, -1,  1, -1, -1,  1, -1,\n",
       "        1,  1, -1, -1,  0,  1, -1,  0, -1,  1, -1,  0,  1,  1, -1, -1, -1,\n",
       "       -1, -1,  1, -1, -1,  1,  0,  1,  0, -1, -1,  1,  1, -1,  1, -1, -1,\n",
       "       -1, -1, -1, -1,  1, -1, -1,  1,  1,  1,  1,  1, -1, -1, -1, -1, -1,\n",
       "        1, -1, -1, -1,  0, -1,  0, -1])"
      ]
     },
     "execution_count": 13,
     "metadata": {},
     "output_type": "execute_result"
    }
   ],
   "source": [
    "labels      = np.copy(cancer.target)\n",
    "labels_orig = np.copy(cancer.target)\n",
    "labels[random_unlabeled_points] = -1\n",
    "\n"
   ]
  },
  {
   "cell_type": "code",
   "execution_count": 17,
   "id": "762eeac4",
   "metadata": {},
   "outputs": [
    {
     "name": "stdout",
     "output_type": "stream",
     "text": [
      "Total Records in dataset is 569 and unlabeled records is  360\n"
     ]
    }
   ],
   "source": [
    "X = cancer.data\n",
    "tot_unlabled=labels[labels==-1]\n",
    "print(f\"Total Records in dataset is {len(X)} and unlabeled records is  {len(tot_unlabled)}\")\n"
   ]
  },
  {
   "cell_type": "code",
   "execution_count": 19,
   "id": "39e1096a",
   "metadata": {},
   "outputs": [
    {
     "name": "stderr",
     "output_type": "stream",
     "text": [
      "C:\\Users\\lenkovnn\\Anaconda3\\lib\\site-packages\\sklearn\\semi_supervised\\_label_propagation.py:222: RuntimeWarning: invalid value encountered in true_divide\n",
      "  probabilities /= normalizer\n"
     ]
    }
   ],
   "source": [
    "# define model\n",
    "model = LabelPropagation(kernel='knn',n_neighbors=5, gamma=30, max_iter=2000)\n",
    "\n",
    "# fit model on training dataset\n",
    "model.fit(X, labels)\n",
    "\n",
    "# make predictions\n",
    "predicted_labels = model.predict(X[random_unlabeled_points])\n",
    "\n",
    "true_labels = labels_orig[random_unlabeled_points]\n",
    "\n"
   ]
  },
  {
   "cell_type": "code",
   "execution_count": 20,
   "id": "e5a22391",
   "metadata": {},
   "outputs": [
    {
     "name": "stdout",
     "output_type": "stream",
     "text": [
      "Label propagation model: 209 labeled & 360 unlabeled points (569 total)\n",
      "              precision    recall  f1-score   support\n",
      "\n",
      "           0       0.95      0.77      0.85       137\n",
      "           1       0.88      0.97      0.92       223\n",
      "\n",
      "    accuracy                           0.90       360\n",
      "   macro avg       0.91      0.87      0.89       360\n",
      "weighted avg       0.90      0.90      0.89       360\n",
      "\n",
      "Confusion matrix\n",
      "[[106  31]\n",
      " [  6 217]]\n"
     ]
    }
   ],
   "source": [
    "#print the classification report and confusion matrix\n",
    "cm = confusion_matrix(true_labels, predicted_labels, labels=model.classes_)\n",
    "print(\"Label propagation model: %d labeled & %d unlabeled points (%d total)\" %\n",
    "      (len(labels[labels!=-1]), len(tot_unlabled) , len(X)))\n",
    "\n",
    "print(classification_report(true_labels, predicted_labels))\n",
    "print(\"Confusion matrix\")\n",
    "print(cm)"
   ]
  },
  {
   "cell_type": "code",
   "execution_count": null,
   "id": "40e465d0",
   "metadata": {},
   "outputs": [],
   "source": []
  },
  {
   "cell_type": "code",
   "execution_count": null,
   "id": "3621f48a",
   "metadata": {},
   "outputs": [],
   "source": []
  },
  {
   "cell_type": "code",
   "execution_count": null,
   "id": "7362bb07",
   "metadata": {},
   "outputs": [],
   "source": []
  },
  {
   "cell_type": "code",
   "execution_count": null,
   "id": "323a2193",
   "metadata": {},
   "outputs": [],
   "source": []
  },
  {
   "cell_type": "code",
   "execution_count": null,
   "id": "b282a153",
   "metadata": {},
   "outputs": [],
   "source": []
  }
 ],
 "metadata": {
  "kernelspec": {
   "display_name": "Python 3 (ipykernel)",
   "language": "python",
   "name": "python3"
  },
  "language_info": {
   "codemirror_mode": {
    "name": "ipython",
    "version": 3
   },
   "file_extension": ".py",
   "mimetype": "text/x-python",
   "name": "python",
   "nbconvert_exporter": "python",
   "pygments_lexer": "ipython3",
   "version": "3.9.12"
  }
 },
 "nbformat": 4,
 "nbformat_minor": 5
}
